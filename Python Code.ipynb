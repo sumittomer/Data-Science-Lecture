{
 "cells": [
  {
   "cell_type": "code",
   "execution_count": 1,
   "metadata": {},
   "outputs": [],
   "source": [
    "import pandas as pd"
   ]
  },
  {
   "cell_type": "code",
   "execution_count": 1,
   "metadata": {},
   "outputs": [],
   "source": [
    "import numpy as np"
   ]
  },
  {
   "cell_type": "code",
   "execution_count": 2,
   "metadata": {},
   "outputs": [],
   "source": [
    "data_sta = pd.read_csv('example_sprit_cut_station.csv', delimiter = ',')\n",
    "data_pri = pd.read_csv('example_sprit_cut_prices.csv', delimiter = ',')\n",
    "#data_prices.head()\n",
    "#data_prices.shape"
   ]
  },
  {
   "cell_type": "code",
   "execution_count": 3,
   "metadata": {},
   "outputs": [
    {
     "data": {
      "text/plain": [
       "Series([], dtype: float64)"
      ]
     },
     "execution_count": 3,
     "metadata": {},
     "output_type": "execute_result"
    }
   ],
   "source": [
    "null_columns=data_sta.columns[data_sta.isnull().any()]\n",
    "data_sta[null_columns].isnull().sum()"
   ]
  },
  {
   "cell_type": "code",
   "execution_count": 4,
   "metadata": {},
   "outputs": [
    {
     "data": {
      "text/plain": [
       "Series([], dtype: float64)"
      ]
     },
     "execution_count": 4,
     "metadata": {},
     "output_type": "execute_result"
    }
   ],
   "source": [
    "null_columns=data_pri.columns[data_pri.isnull().any()]\n",
    "data_pri[null_columns].isnull().sum()"
   ]
  },
  {
   "cell_type": "code",
   "execution_count": 5,
   "metadata": {},
   "outputs": [
    {
     "name": "stdout",
     "output_type": "stream",
     "text": [
      "<class 'pandas.core.frame.DataFrame'>\n",
      "RangeIndex: 2189526 entries, 0 to 2189525\n",
      "Data columns (total 1 columns):\n",
      "STID;E5;E10;DIESEL;DATE_CHANGED;CHANGED    object\n",
      "dtypes: object(1)\n",
      "memory usage: 16.7+ MB\n"
     ]
    }
   ],
   "source": [
    "data_pri.info()"
   ]
  },
  {
   "cell_type": "code",
   "execution_count": 7,
   "metadata": {},
   "outputs": [
    {
     "data": {
      "text/html": [
       "<div>\n",
       "<style scoped>\n",
       "    .dataframe tbody tr th:only-of-type {\n",
       "        vertical-align: middle;\n",
       "    }\n",
       "\n",
       "    .dataframe tbody tr th {\n",
       "        vertical-align: top;\n",
       "    }\n",
       "\n",
       "    .dataframe thead th {\n",
       "        text-align: right;\n",
       "    }\n",
       "</style>\n",
       "<table border=\"1\" class=\"dataframe\">\n",
       "  <thead>\n",
       "    <tr style=\"text-align: right;\">\n",
       "      <th></th>\n",
       "      <th>STID;E5;E10;DIESEL;DATE_CHANGED;CHANGED</th>\n",
       "    </tr>\n",
       "  </thead>\n",
       "  <tbody>\n",
       "    <tr>\n",
       "      <th>0</th>\n",
       "      <td>01bf5a06-4248-43a5-9524-56123fa3ab2f;1589;1549...</td>\n",
       "    </tr>\n",
       "    <tr>\n",
       "      <th>1</th>\n",
       "      <td>01bf5a06-4248-43a5-9524-56123fa3ab2f;1569;1529...</td>\n",
       "    </tr>\n",
       "    <tr>\n",
       "      <th>2</th>\n",
       "      <td>01bf5a06-4248-43a5-9524-56123fa3ab2f;1569;1529...</td>\n",
       "    </tr>\n",
       "    <tr>\n",
       "      <th>3</th>\n",
       "      <td>01bf5a06-4248-43a5-9524-56123fa3ab2f;1539;1499...</td>\n",
       "    </tr>\n",
       "    <tr>\n",
       "      <th>4</th>\n",
       "      <td>01bf5a06-4248-43a5-9524-56123fa3ab2f;1529;1489...</td>\n",
       "    </tr>\n",
       "  </tbody>\n",
       "</table>\n",
       "</div>"
      ],
      "text/plain": [
       "             STID;E5;E10;DIESEL;DATE_CHANGED;CHANGED\n",
       "0  01bf5a06-4248-43a5-9524-56123fa3ab2f;1589;1549...\n",
       "1  01bf5a06-4248-43a5-9524-56123fa3ab2f;1569;1529...\n",
       "2  01bf5a06-4248-43a5-9524-56123fa3ab2f;1569;1529...\n",
       "3  01bf5a06-4248-43a5-9524-56123fa3ab2f;1539;1499...\n",
       "4  01bf5a06-4248-43a5-9524-56123fa3ab2f;1529;1489..."
      ]
     },
     "execution_count": 7,
     "metadata": {},
     "output_type": "execute_result"
    }
   ],
   "source": [
    "data_pri.head()"
   ]
  },
  {
   "cell_type": "code",
   "execution_count": 19,
   "metadata": {},
   "outputs": [
    {
     "data": {
      "text/html": [
       "<div>\n",
       "<style>\n",
       "    .dataframe thead tr:only-child th {\n",
       "        text-align: right;\n",
       "    }\n",
       "\n",
       "    .dataframe thead th {\n",
       "        text-align: left;\n",
       "    }\n",
       "\n",
       "    .dataframe tbody tr th {\n",
       "        vertical-align: top;\n",
       "    }\n",
       "</style>\n",
       "<table border=\"1\" class=\"dataframe\">\n",
       "  <thead>\n",
       "    <tr style=\"text-align: right;\">\n",
       "      <th></th>\n",
       "      <th>ID</th>\n",
       "      <th>VERSION</th>\n",
       "      <th>VERSION_TIME</th>\n",
       "      <th>NAME</th>\n",
       "      <th>BRAND</th>\n",
       "      <th>STREET</th>\n",
       "      <th>HOUSE_NUMBER</th>\n",
       "      <th>POST_CODE</th>\n",
       "      <th>PLACE</th>\n",
       "      <th>PUBLIC_HOLIDAY_IDENTIFIER</th>\n",
       "      <th>LAT</th>\n",
       "      <th>LNG</th>\n",
       "    </tr>\n",
       "  </thead>\n",
       "  <tbody>\n",
       "    <tr>\n",
       "      <th>0</th>\n",
       "      <td>d37bee76-91b6-485a-b974-24f1b0d391fa</td>\n",
       "      <td>4</td>\n",
       "      <td>2015-01-09 10:26:15.000000</td>\n",
       "      <td>Aral Tankstelle</td>\n",
       "      <td>ARAL</td>\n",
       "      <td>An der Tagweide</td>\n",
       "      <td>2</td>\n",
       "      <td>76139</td>\n",
       "      <td>Karlsruhe</td>\n",
       "      <td>\\N</td>\n",
       "      <td>49.020280</td>\n",
       "      <td>8.459429</td>\n",
       "    </tr>\n",
       "    <tr>\n",
       "      <th>1</th>\n",
       "      <td>51d4b652-a095-1aa0-e100-80009459e03a</td>\n",
       "      <td>796</td>\n",
       "      <td>2015-09-28 21:00:13.000000</td>\n",
       "      <td>JET MANNHEIM UNTERMUEHLAUSTRASSE 83</td>\n",
       "      <td>JET</td>\n",
       "      <td>UNTERMUEHLAUSTRASSE 83</td>\n",
       "      <td>\\N</td>\n",
       "      <td>68169</td>\n",
       "      <td>MANNHEIM</td>\n",
       "      <td>\\N</td>\n",
       "      <td>49.508962</td>\n",
       "      <td>8.467691</td>\n",
       "    </tr>\n",
       "    <tr>\n",
       "      <th>2</th>\n",
       "      <td>c7caf231-0e47-40db-92de-9349a2eb2bef</td>\n",
       "      <td>4</td>\n",
       "      <td>2014-09-26 13:24:57.000000</td>\n",
       "      <td>Aral Tankstelle</td>\n",
       "      <td>ARAL</td>\n",
       "      <td>Trippstadter Straße</td>\n",
       "      <td>69</td>\n",
       "      <td>67663</td>\n",
       "      <td>Kaiserslautern</td>\n",
       "      <td>\\N</td>\n",
       "      <td>49.433754</td>\n",
       "      <td>7.757465</td>\n",
       "    </tr>\n",
       "    <tr>\n",
       "      <th>3</th>\n",
       "      <td>51d4b53b-a095-1aa0-e100-80009459e03a</td>\n",
       "      <td>796</td>\n",
       "      <td>2015-09-28 21:00:13.000000</td>\n",
       "      <td>JET KAISERSLAUTERN PARISER STR. 167</td>\n",
       "      <td>JET</td>\n",
       "      <td>PARISER STR. 167</td>\n",
       "      <td>\\N</td>\n",
       "      <td>67655</td>\n",
       "      <td>KAISERSLAUTERN</td>\n",
       "      <td>\\N</td>\n",
       "      <td>49.442200</td>\n",
       "      <td>7.748360</td>\n",
       "    </tr>\n",
       "    <tr>\n",
       "      <th>4</th>\n",
       "      <td>51d4b70f-a095-1aa0-e100-80009459e03a</td>\n",
       "      <td>796</td>\n",
       "      <td>2015-09-28 21:00:13.000000</td>\n",
       "      <td>JET GERMERSHEIM MUENCHENER STRASSE 12</td>\n",
       "      <td>JET</td>\n",
       "      <td>MUENCHENER STRASSE 12</td>\n",
       "      <td>\\N</td>\n",
       "      <td>76726</td>\n",
       "      <td>GERMERSHEIM</td>\n",
       "      <td>\\N</td>\n",
       "      <td>49.226800</td>\n",
       "      <td>8.374400</td>\n",
       "    </tr>\n",
       "  </tbody>\n",
       "</table>\n",
       "</div>"
      ],
      "text/plain": [
       "                                     ID  VERSION                VERSION_TIME  \\\n",
       "0  d37bee76-91b6-485a-b974-24f1b0d391fa        4  2015-01-09 10:26:15.000000   \n",
       "1  51d4b652-a095-1aa0-e100-80009459e03a      796  2015-09-28 21:00:13.000000   \n",
       "2  c7caf231-0e47-40db-92de-9349a2eb2bef        4  2014-09-26 13:24:57.000000   \n",
       "3  51d4b53b-a095-1aa0-e100-80009459e03a      796  2015-09-28 21:00:13.000000   \n",
       "4  51d4b70f-a095-1aa0-e100-80009459e03a      796  2015-09-28 21:00:13.000000   \n",
       "\n",
       "                                    NAME BRAND                  STREET  \\\n",
       "0                        Aral Tankstelle  ARAL         An der Tagweide   \n",
       "1    JET MANNHEIM UNTERMUEHLAUSTRASSE 83   JET  UNTERMUEHLAUSTRASSE 83   \n",
       "2                        Aral Tankstelle  ARAL     Trippstadter Straße   \n",
       "3    JET KAISERSLAUTERN PARISER STR. 167   JET        PARISER STR. 167   \n",
       "4  JET GERMERSHEIM MUENCHENER STRASSE 12   JET   MUENCHENER STRASSE 12   \n",
       "\n",
       "  HOUSE_NUMBER POST_CODE           PLACE PUBLIC_HOLIDAY_IDENTIFIER        LAT  \\\n",
       "0            2     76139       Karlsruhe                        \\N  49.020280   \n",
       "1           \\N     68169        MANNHEIM                        \\N  49.508962   \n",
       "2           69     67663  Kaiserslautern                        \\N  49.433754   \n",
       "3           \\N     67655  KAISERSLAUTERN                        \\N  49.442200   \n",
       "4           \\N     76726     GERMERSHEIM                        \\N  49.226800   \n",
       "\n",
       "        LNG  \n",
       "0  8.459429  \n",
       "1  8.467691  \n",
       "2  7.757465  \n",
       "3  7.748360  \n",
       "4  8.374400  "
      ]
     },
     "execution_count": 19,
     "metadata": {},
     "output_type": "execute_result"
    }
   ],
   "source": [
    "data_sta.head()\n",
    "#data_station.shape"
   ]
  },
  {
   "cell_type": "code",
   "execution_count": 14,
   "metadata": {},
   "outputs": [
    {
     "name": "stdout",
     "output_type": "stream",
     "text": [
      "<class 'pandas.core.frame.DataFrame'>\n",
      "RangeIndex: 824 entries, 0 to 823\n",
      "Data columns (total 12 columns):\n",
      "ID                           824 non-null object\n",
      "VERSION                      824 non-null int64\n",
      "VERSION_TIME                 824 non-null object\n",
      "NAME                         824 non-null object\n",
      "BRAND                        802 non-null object\n",
      "STREET                       820 non-null object\n",
      "HOUSE_NUMBER                 674 non-null object\n",
      "POST_CODE                    820 non-null object\n",
      "PLACE                        820 non-null object\n",
      "PUBLIC_HOLIDAY_IDENTIFIER    824 non-null object\n",
      "LAT                          824 non-null float64\n",
      "LNG                          824 non-null float64\n",
      "dtypes: float64(2), int64(1), object(9)\n",
      "memory usage: 77.3+ KB\n"
     ]
    }
   ],
   "source": [
    "data_sta.info()"
   ]
  },
  {
   "cell_type": "code",
   "execution_count": 20,
   "metadata": {},
   "outputs": [
    {
     "data": {
      "text/plain": [
       "198"
      ]
     },
     "execution_count": 20,
     "metadata": {},
     "output_type": "execute_result"
    }
   ],
   "source": [
    "data_sta['PLACE'].nunique()"
   ]
  },
  {
   "cell_type": "code",
   "execution_count": 13,
   "metadata": {
    "scrolled": true
   },
   "outputs": [
    {
     "name": "stdout",
     "output_type": "stream",
     "text": [
      "<class 'pandas.core.frame.DataFrame'>\n",
      "RangeIndex: 1048575 entries, 0 to 1048574\n",
      "Data columns (total 6 columns):\n",
      "STID            1048575 non-null object\n",
      "E5              1048575 non-null int64\n",
      "E10             1048575 non-null int64\n",
      "DIESEL          1048575 non-null int64\n",
      "DATE_CHANGED    1048575 non-null object\n",
      "CHANGED         1048575 non-null int64\n",
      "dtypes: int64(4), object(2)\n",
      "memory usage: 48.0+ MB\n"
     ]
    }
   ],
   "source": [
    "data_pri.info()"
   ]
  },
  {
   "cell_type": "code",
   "execution_count": 49,
   "metadata": {},
   "outputs": [
    {
     "data": {
      "text/html": [
       "<div>\n",
       "<style>\n",
       "    .dataframe thead tr:only-child th {\n",
       "        text-align: right;\n",
       "    }\n",
       "\n",
       "    .dataframe thead th {\n",
       "        text-align: left;\n",
       "    }\n",
       "\n",
       "    .dataframe tbody tr th {\n",
       "        vertical-align: top;\n",
       "    }\n",
       "</style>\n",
       "<table border=\"1\" class=\"dataframe\">\n",
       "  <thead>\n",
       "    <tr style=\"text-align: right;\">\n",
       "      <th></th>\n",
       "      <th>STID</th>\n",
       "      <th>E5</th>\n",
       "      <th>E10</th>\n",
       "      <th>DIESEL</th>\n",
       "      <th>CHANGED</th>\n",
       "    </tr>\n",
       "    <tr>\n",
       "      <th>DATE_CHANGED</th>\n",
       "      <th></th>\n",
       "      <th></th>\n",
       "      <th></th>\n",
       "      <th></th>\n",
       "      <th></th>\n",
       "    </tr>\n",
       "  </thead>\n",
       "  <tbody>\n",
       "    <tr>\n",
       "      <th>2014-10-02 05:22:01.000000</th>\n",
       "      <td>01bf5a06-4248-43a5-9524-56123fa3ab2f</td>\n",
       "      <td>1589</td>\n",
       "      <td>1549</td>\n",
       "      <td>1389</td>\n",
       "      <td>21</td>\n",
       "    </tr>\n",
       "    <tr>\n",
       "      <th>2014-10-02 05:26:01.000000</th>\n",
       "      <td>01bf5a06-4248-43a5-9524-56123fa3ab2f</td>\n",
       "      <td>1569</td>\n",
       "      <td>1529</td>\n",
       "      <td>1369</td>\n",
       "      <td>21</td>\n",
       "    </tr>\n",
       "    <tr>\n",
       "      <th>2014-10-02 09:06:01.000000</th>\n",
       "      <td>01bf5a06-4248-43a5-9524-56123fa3ab2f</td>\n",
       "      <td>1569</td>\n",
       "      <td>1529</td>\n",
       "      <td>1359</td>\n",
       "      <td>1</td>\n",
       "    </tr>\n",
       "    <tr>\n",
       "      <th>2014-10-03 12:14:01.000000</th>\n",
       "      <td>01bf5a06-4248-43a5-9524-56123fa3ab2f</td>\n",
       "      <td>1539</td>\n",
       "      <td>1499</td>\n",
       "      <td>1339</td>\n",
       "      <td>21</td>\n",
       "    </tr>\n",
       "    <tr>\n",
       "      <th>2014-10-03 14:14:01.000000</th>\n",
       "      <td>01bf5a06-4248-43a5-9524-56123fa3ab2f</td>\n",
       "      <td>1529</td>\n",
       "      <td>1489</td>\n",
       "      <td>1329</td>\n",
       "      <td>21</td>\n",
       "    </tr>\n",
       "  </tbody>\n",
       "</table>\n",
       "</div>"
      ],
      "text/plain": [
       "                                                            STID    E5   E10  \\\n",
       "DATE_CHANGED                                                                   \n",
       "2014-10-02 05:22:01.000000  01bf5a06-4248-43a5-9524-56123fa3ab2f  1589  1549   \n",
       "2014-10-02 05:26:01.000000  01bf5a06-4248-43a5-9524-56123fa3ab2f  1569  1529   \n",
       "2014-10-02 09:06:01.000000  01bf5a06-4248-43a5-9524-56123fa3ab2f  1569  1529   \n",
       "2014-10-03 12:14:01.000000  01bf5a06-4248-43a5-9524-56123fa3ab2f  1539  1499   \n",
       "2014-10-03 14:14:01.000000  01bf5a06-4248-43a5-9524-56123fa3ab2f  1529  1489   \n",
       "\n",
       "                            DIESEL  CHANGED  \n",
       "DATE_CHANGED                                 \n",
       "2014-10-02 05:22:01.000000    1389       21  \n",
       "2014-10-02 05:26:01.000000    1369       21  \n",
       "2014-10-02 09:06:01.000000    1359        1  \n",
       "2014-10-03 12:14:01.000000    1339       21  \n",
       "2014-10-03 14:14:01.000000    1329       21  "
      ]
     },
     "execution_count": 49,
     "metadata": {},
     "output_type": "execute_result"
    }
   ],
   "source": [
    "data_pri.head()"
   ]
  },
  {
   "cell_type": "code",
   "execution_count": 51,
   "metadata": {},
   "outputs": [
    {
     "data": {
      "text/plain": [
       "<matplotlib.axes._subplots.AxesSubplot at 0x7f0d50c4c290>"
      ]
     },
     "execution_count": 51,
     "metadata": {},
     "output_type": "execute_result"
    }
   ],
   "source": [
    "import matplotlib.pyplot as plt\n",
    "data_pri.plot(x=\"E5\", y= \"E10\")\n",
    "plt.show()"
   ]
  },
  {
   "cell_type": "code",
   "execution_count": 53,
   "metadata": {},
   "outputs": [
    {
     "name": "stdout",
     "output_type": "stream",
     "text": [
      "<class 'pandas.core.frame.DataFrame'>\n",
      "Index: 1048575 entries, 2014-10-02 05:22:01.000000 to 2015-05-13 16:46:01.000000\n",
      "Data columns (total 5 columns):\n",
      "STID       1048575 non-null object\n",
      "E5         1048575 non-null int64\n",
      "E10        1048575 non-null int64\n",
      "DIESEL     1048575 non-null int64\n",
      "CHANGED    1048575 non-null int64\n",
      "dtypes: int64(4), object(1)\n",
      "memory usage: 68.0+ MB\n"
     ]
    }
   ],
   "source": [
    "data_pri.info()"
   ]
  },
  {
   "cell_type": "code",
   "execution_count": null,
   "metadata": {},
   "outputs": [],
   "source": []
  }
 ],
 "metadata": {
  "kernelspec": {
   "display_name": "Python 3",
   "language": "python",
   "name": "python3"
  },
  "language_info": {
   "codemirror_mode": {
    "name": "ipython",
    "version": 3
   },
   "file_extension": ".py",
   "mimetype": "text/x-python",
   "name": "python",
   "nbconvert_exporter": "python",
   "pygments_lexer": "ipython3",
   "version": "3.6.4"
  }
 },
 "nbformat": 4,
 "nbformat_minor": 2
}
